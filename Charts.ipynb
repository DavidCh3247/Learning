{
 "cells": [
  {
   "cell_type": "code",
   "execution_count": 1,
   "metadata": {},
   "outputs": [],
   "source": [
    "import swimclub\n",
    "\n",
    "fn = \"Darius-13-100m-Fly.txt\"\n",
    "\n",
    "(swimmer, age, distance, stroke, *_) = swimclub.read_swim_data(fn)\n",
    "\n",
    "title = swimmer + \" (Under \" + age + \") \" + distance + \" \" + stroke"
   ]
  },
  {
   "cell_type": "code",
   "execution_count": 2,
   "metadata": {},
   "outputs": [
    {
     "data": {
      "text/plain": [
       "'Darius (Under 13) 100m Fly'"
      ]
     },
     "execution_count": 2,
     "metadata": {},
     "output_type": "execute_result"
    }
   ],
   "source": [
    "title"
   ]
  },
  {
   "cell_type": "code",
   "execution_count": 3,
   "metadata": {},
   "outputs": [
    {
     "data": {
      "text/plain": [
       "[['1:27.95', '1:21.07', '1:30.96', '1:23.22', '1:27.95', '1:28.30'],\n",
       " '1:26.58',\n",
       " [8795, 8107, 9096, 8322, 8795, 8830]]"
      ]
     },
     "execution_count": 3,
     "metadata": {},
     "output_type": "execute_result"
    }
   ],
   "source": [
    "_"
   ]
  },
  {
   "cell_type": "code",
   "execution_count": 4,
   "metadata": {},
   "outputs": [],
   "source": [
    "html = \"<!DOCTYPE html><html><head><title>\" + title \n",
    "html = html + \"</title></head><body><h3>\" + title + \"</h3>\""
   ]
  },
  {
   "cell_type": "code",
   "execution_count": 5,
   "metadata": {},
   "outputs": [
    {
     "data": {
      "text/plain": [
       "'<!DOCTYPE html><html><head><title>Darius (Under 13) 100m Fly</title></head><body><h3>Darius (Under 13) 100m Fly</h3>'"
      ]
     },
     "execution_count": 5,
     "metadata": {},
     "output_type": "execute_result"
    }
   ],
   "source": [
    "html"
   ]
  },
  {
   "cell_type": "code",
   "execution_count": 6,
   "metadata": {},
   "outputs": [
    {
     "data": {
      "text/plain": [
       "'Darius (Under 13) 100m Fly'"
      ]
     },
     "execution_count": 6,
     "metadata": {},
     "output_type": "execute_result"
    }
   ],
   "source": [
    "title = f\"{swimmer} (Under {age}) {distance} {stroke}\"\n",
    "\n",
    "title"
   ]
  },
  {
   "cell_type": "code",
   "execution_count": 7,
   "metadata": {},
   "outputs": [
    {
     "data": {
      "text/plain": [
       "'<!DOCTYPE html>\\n<html>\\n    <head>\\n        <title>Darius (Under 13) 100m Fly</title>\\n    </head>\\n    <body>\\n        <h3>Darius (Under 13) 100m Fly</h3>\\n'"
      ]
     },
     "execution_count": 7,
     "metadata": {},
     "output_type": "execute_result"
    }
   ],
   "source": [
    "html = f\"\"\"<!DOCTYPE html>\n",
    "<html>\n",
    "    <head>\n",
    "        <title>{title}</title>\n",
    "    </head>\n",
    "    <body>\n",
    "        <h3>{title}</h3>\n",
    "\"\"\"\n",
    "\n",
    "html"
   ]
  },
  {
   "cell_type": "code",
   "execution_count": 8,
   "metadata": {},
   "outputs": [
    {
     "name": "stdout",
     "output_type": "stream",
     "text": [
      "<!DOCTYPE html>\n",
      "<html>\n",
      "    <head>\n",
      "        <title>Darius (Under 13) 100m Fly</title>\n",
      "    </head>\n",
      "    <body>\n",
      "        <h3>Darius (Under 13) 100m Fly</h3>\n",
      "\n"
     ]
    }
   ],
   "source": [
    "print(html)"
   ]
  },
  {
   "cell_type": "code",
   "execution_count": 9,
   "metadata": {},
   "outputs": [
    {
     "data": {
      "text/plain": [
       "('Darius',\n",
       " '13',\n",
       " '100m',\n",
       " 'Fly',\n",
       " ['1:27.95', '1:21.07', '1:30.96', '1:23.22', '1:27.95', '1:28.30'],\n",
       " '1:26.58',\n",
       " [8795, 8107, 9096, 8322, 8795, 8830])"
      ]
     },
     "execution_count": 9,
     "metadata": {},
     "output_type": "execute_result"
    }
   ],
   "source": [
    "import swimclub\n",
    "\n",
    "swimclub.read_swim_data(fn)"
   ]
  },
  {
   "cell_type": "code",
   "execution_count": 10,
   "metadata": {},
   "outputs": [],
   "source": [
    "#import swimclub\n",
    "#import hfpy_utils\n",
    "\n",
    "\n",
    "#*_, times, average, converts = swimclub.read_swim_data(fn)\n",
    "#from_max = max(converts)\n",
    "#svgs = \"\"\n",
    "#for n, t in enumerate(times):\n",
    " #   bar_width = hfpy_utils.convert2range(converts[n], 0, from_max, 0, 400)\n",
    " #   svgs = svgs + f\"\"\"\n",
    " #                       <svg height=\"30\" width=\"400\">\n",
    " #                           <rect height=\"30\" width=\"{bar_width}\" style=\"fill:rgb(0,0,255);\" />\n",
    " #                       </svg>{t}<br />\n",
    " #                  \"\"\"\n",
    " #"
   ]
  },
  {
   "cell_type": "code",
   "execution_count": 11,
   "metadata": {},
   "outputs": [],
   "source": [
    "## This version of the above cell's code includes the two aesthetic tweaks discussed in the chapter.\n",
    "## When you are instructed to restart/re-run your notebook, toggle the comments on this code so that \n",
    "## this version runs (replacing the SVG markup in the \"svgs\" variable).\n",
    "\n",
    "import swimclub\n",
    "import hfpy_utils\n",
    "\n",
    "\n",
    "*_, times, average, converts = swimclub.read_swim_data(fn)\n",
    "from_max = max(converts)\n",
    "svgs = \"\"\n",
    "times.reverse()\n",
    "converts.reverse()\n",
    "for n, t in enumerate(times):\n",
    "    bar_width = hfpy_utils.convert2range(converts[n], 0, from_max, 0, 350)\n",
    "    svgs = svgs + f\"\"\"\n",
    "                        <svg height=\"30\" width=\"400\">\n",
    "                            <rect height=\"30\" width=\"{bar_width}\" style=\"fill:rgb(0,0,255);\" />\n",
    "                        </svg>{t}<br />\n",
    "                   \"\"\""
   ]
  },
  {
   "cell_type": "code",
   "execution_count": 12,
   "metadata": {},
   "outputs": [
    {
     "name": "stdout",
     "output_type": "stream",
     "text": [
      "\n",
      "                        <svg height=\"30\" width=\"400\">\n",
      "                            <rect height=\"30\" width=\"339.76\" style=\"fill:rgb(0,0,255);\" />\n",
      "                        </svg>1:28.30<br />\n",
      "                   \n",
      "                        <svg height=\"30\" width=\"400\">\n",
      "                            <rect height=\"30\" width=\"338.42\" style=\"fill:rgb(0,0,255);\" />\n",
      "                        </svg>1:27.95<br />\n",
      "                   \n",
      "                        <svg height=\"30\" width=\"400\">\n",
      "                            <rect height=\"30\" width=\"320.22\" style=\"fill:rgb(0,0,255);\" />\n",
      "                        </svg>1:23.22<br />\n",
      "                   \n",
      "                        <svg height=\"30\" width=\"400\">\n",
      "                            <rect height=\"30\" width=\"350.0\" style=\"fill:rgb(0,0,255);\" />\n",
      "                        </svg>1:30.96<br />\n",
      "                   \n",
      "                        <svg height=\"30\" width=\"400\">\n",
      "                            <rect height=\"30\" width=\"311.94\" style=\"fill:rgb(0,0,255);\" />\n",
      "                        </svg>1:21.07<br />\n",
      "                   \n",
      "                        <svg height=\"30\" width=\"400\">\n",
      "                            <rect height=\"30\" width=\"338.42\" style=\"fill:rgb(0,0,255);\" />\n",
      "                        </svg>1:27.95<br />\n",
      "                   \n"
     ]
    }
   ],
   "source": [
    "print(svgs)"
   ]
  },
  {
   "cell_type": "code",
   "execution_count": 29,
   "metadata": {},
   "outputs": [],
   "source": [
    "footer = f\"\"\"\n",
    "        <p>Average time: {average}</p>\n",
    "    </body>\n",
    "</html>\n",
    "\"\"\""
   ]
  },
  {
   "cell_type": "code",
   "execution_count": 30,
   "metadata": {},
   "outputs": [],
   "source": [
    "page = html + svgs + footer"
   ]
  },
  {
   "cell_type": "code",
   "execution_count": 31,
   "metadata": {},
   "outputs": [
    {
     "data": {
      "text/plain": [
       "'<!DOCTYPE html>\\n<html>\\n    <head>\\n        <title>Darius (Under 13) 100m Fly</title>\\n    </head>\\n    <body>\\n        <h3>Darius (Under 13) 100m Fly</h3>\\n\\n                        <svg height=\"30\" width=\"400\">\\n                            <rect height=\"30\" width=\"339.76\" style=\"fill:rgb(0,0,255);\" />\\n                        </svg>1:28.30<br />\\n                   \\n                        <svg height=\"30\" width=\"400\">\\n                            <rect height=\"30\" width=\"338.42\" style=\"fill:rgb(0,0,255);\" />\\n                        </svg>1:27.95<br />\\n                   \\n                        <svg height=\"30\" width=\"400\">\\n                            <rect height=\"30\" width=\"320.22\" style=\"fill:rgb(0,0,255);\" />\\n                        </svg>1:23.22<br />\\n                   \\n                        <svg height=\"30\" width=\"400\">\\n                            <rect height=\"30\" width=\"350.0\" style=\"fill:rgb(0,0,255);\" />\\n                        </svg>1:30.96<br />\\n                   \\n                        <svg height=\"30\" width=\"400\">\\n                            <rect height=\"30\" width=\"311.94\" style=\"fill:rgb(0,0,255);\" />\\n                        </svg>1:21.07<br />\\n                   \\n                        <svg height=\"30\" width=\"400\">\\n                            <rect height=\"30\" width=\"338.42\" style=\"fill:rgb(0,0,255);\" />\\n                        </svg>1:27.95<br />\\n                   \\n        <p>Average time: 1:26.58</p>\\n    </body>\\n</html>\\n'"
      ]
     },
     "execution_count": 31,
     "metadata": {},
     "output_type": "execute_result"
    }
   ],
   "source": [
    "page"
   ]
  },
  {
   "cell_type": "code",
   "execution_count": 32,
   "metadata": {},
   "outputs": [],
   "source": [
    "with open(\"test.txt\", \"w\") as tf:\n",
    "    print(\"This is a test.\", file=tf)"
   ]
  },
  {
   "cell_type": "code",
   "execution_count": 33,
   "metadata": {},
   "outputs": [
    {
     "name": "stdout",
     "output_type": "stream",
     "text": [
      "Darius-13-100m-Fly.txt\n",
      "Darius-13-100m-Fly\n",
      "charts/Darius-13-100m-Fly.html\n"
     ]
    }
   ],
   "source": [
    "print(fn)\n",
    "prefix = fn.removesuffix(\".txt\")\n",
    "print(prefix)\n",
    "print(f\"charts/{prefix}.html\")"
   ]
  },
  {
   "cell_type": "code",
   "execution_count": 34,
   "metadata": {},
   "outputs": [],
   "source": [
    "save_to = f\"charts/{fn.removesuffix('.txt')}.html\"\n",
    "\n",
    "with open(save_to, \"w\") as sf:\n",
    "    print(page, file=sf)"
   ]
  },
  {
   "cell_type": "markdown",
   "metadata": {},
   "source": [
    "__creating a produce_bar_chart function before of the next lines__"
   ]
  },
  {
   "cell_type": "code",
   "execution_count": 35,
   "metadata": {},
   "outputs": [],
   "source": [
    "import os\n",
    "import swimclub\n",
    "import webbrowser"
   ]
  },
  {
   "cell_type": "code",
   "execution_count": 36,
   "metadata": {},
   "outputs": [
    {
     "data": {
      "text/plain": [
       "'charts/Darius-13-100m-Fly.html'"
      ]
     },
     "execution_count": 36,
     "metadata": {},
     "output_type": "execute_result"
    }
   ],
   "source": [
    "swimclub.produce_bar_chart(\"Darius-13-100m-Fly.txt\")"
   ]
  },
  {
   "cell_type": "code",
   "execution_count": 37,
   "metadata": {},
   "outputs": [
    {
     "data": {
      "text/plain": [
       "True"
      ]
     },
     "execution_count": 37,
     "metadata": {},
     "output_type": "execute_result"
    }
   ],
   "source": [
    "chart = swimclub.produce_bar_chart(\"Darius-13-100m-Fly.txt\")\n",
    "\n",
    "webbrowser.open(\"file://\" + os.path.realpath(chart))"
   ]
  },
  {
   "cell_type": "code",
   "execution_count": 38,
   "metadata": {},
   "outputs": [
    {
     "data": {
      "text/plain": [
       "True"
      ]
     },
     "execution_count": 38,
     "metadata": {},
     "output_type": "execute_result"
    }
   ],
   "source": [
    "chart = swimclub.produce_bar_chart(\"Dave-17-100m-Free.txt\")\n",
    "\n",
    "webbrowser.open(\"file://\" + os.path.realpath(chart))"
   ]
  },
  {
   "cell_type": "code",
   "execution_count": 39,
   "metadata": {},
   "outputs": [
    {
     "data": {
      "text/plain": [
       "'charts/Lizzie-14-100m-Back.html'"
      ]
     },
     "execution_count": 39,
     "metadata": {},
     "output_type": "execute_result"
    }
   ],
   "source": [
    "swimclub.produce_bar_chart(\"Lizzie-14-100m-Back.txt\")"
   ]
  },
  {
   "cell_type": "code",
   "execution_count": 40,
   "metadata": {},
   "outputs": [
    {
     "data": {
      "text/plain": [
       "True"
      ]
     },
     "execution_count": 40,
     "metadata": {},
     "output_type": "execute_result"
    }
   ],
   "source": [
    "chart = swimclub.produce_bar_chart(\"Lizzie-14-100m-Back.txt\")\n",
    "\n",
    "webbrowser.open(\"file://\" + os.path.realpath(chart))"
   ]
  },
  {
   "cell_type": "code",
   "execution_count": 41,
   "metadata": {},
   "outputs": [
    {
     "data": {
      "text/plain": [
       "('Lizzie',\n",
       " '14',\n",
       " '100m',\n",
       " 'Back',\n",
       " ['1:27.10', '1:26.21', '1:26.42', '1:35.79', '1:30.47'],\n",
       " '1:29.20',\n",
       " [8710, 8621, 8642, 9579, 9047])"
      ]
     },
     "execution_count": 41,
     "metadata": {},
     "output_type": "execute_result"
    }
   ],
   "source": [
    "swimclub.read_swim_data(\"Lizzie-14-100m-Back.txt\")"
   ]
  },
  {
   "cell_type": "code",
   "execution_count": 42,
   "metadata": {},
   "outputs": [],
   "source": [
    "# f\"{(average / 100):.2f}\""
   ]
  },
  {
   "cell_type": "code",
   "execution_count": 27,
   "metadata": {},
   "outputs": [],
   "source": [
    "# f\"{(average / 100):.2f}\".split(\".\")"
   ]
  },
  {
   "cell_type": "code",
   "execution_count": 28,
   "metadata": {},
   "outputs": [],
   "source": [
    "#date = (19,6,2024)\n",
    "#f\"Date: {date[0]:02} {date[1]:02} {date[2]}\""
   ]
  },
  {
   "cell_type": "code",
   "execution_count": null,
   "metadata": {},
   "outputs": [],
   "source": []
  }
 ],
 "metadata": {
  "kernelspec": {
   "display_name": "Python 3",
   "language": "python",
   "name": "python3"
  },
  "language_info": {
   "codemirror_mode": {
    "name": "ipython",
    "version": 3
   },
   "file_extension": ".py",
   "mimetype": "text/x-python",
   "name": "python",
   "nbconvert_exporter": "python",
   "pygments_lexer": "ipython3",
   "version": "3.12.0"
  },
  "orig_nbformat": 4,
  "vscode": {
   "interpreter": {
    "hash": "5c7b89af1651d0b8571dde13640ecdccf7d5a6204171d6ab33e7c296e100e08a"
   }
  }
 },
 "nbformat": 4,
 "nbformat_minor": 2
}
